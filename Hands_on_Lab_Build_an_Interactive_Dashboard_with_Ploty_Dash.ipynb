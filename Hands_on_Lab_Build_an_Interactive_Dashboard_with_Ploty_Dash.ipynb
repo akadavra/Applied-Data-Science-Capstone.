{
  "nbformat": 4,
  "nbformat_minor": 0,
  "metadata": {
    "colab": {
      "provenance": [],
      "authorship_tag": "ABX9TyMQwGVD2LkNkvxRoKW5MCB2",
      "include_colab_link": true
    },
    "kernelspec": {
      "name": "python3",
      "display_name": "Python 3"
    },
    "language_info": {
      "name": "python"
    }
  },
  "cells": [
    {
      "cell_type": "markdown",
      "metadata": {
        "id": "view-in-github",
        "colab_type": "text"
      },
      "source": [
        "<a href=\"https://colab.research.google.com/github/akadavra/Module-5./blob/main/Hands_on_Lab_Build_an_Interactive_Dashboard_with_Ploty_Dash.ipynb\" target=\"_parent\"><img src=\"https://colab.research.google.com/assets/colab-badge.svg\" alt=\"Open In Colab\"/></a>"
      ]
    },
    {
      "cell_type": "code",
      "execution_count": 1,
      "metadata": {
        "colab": {
          "base_uri": "https://localhost:8080/"
        },
        "id": "4I_dooCLGDf6",
        "outputId": "9db96cfc-7a30-438c-e079-209e045061e7"
      },
      "outputs": [
        {
          "output_type": "stream",
          "name": "stdout",
          "text": [
            "Collecting dash==2.10.0\n",
            "  Downloading dash-2.10.0-py3-none-any.whl.metadata (11 kB)\n",
            "Collecting jupyter-dash==0.4.2\n",
            "  Downloading jupyter_dash-0.4.2-py3-none-any.whl.metadata (3.6 kB)\n",
            "Requirement already satisfied: pandas in /usr/local/lib/python3.11/dist-packages (2.2.2)\n",
            "Requirement already satisfied: plotly in /usr/local/lib/python3.11/dist-packages (5.24.1)\n",
            "Collecting Flask<=2.2.3,>=1.0.4 (from dash==2.10.0)\n",
            "  Downloading Flask-2.2.3-py3-none-any.whl.metadata (3.9 kB)\n",
            "Collecting Werkzeug<=2.2.3 (from dash==2.10.0)\n",
            "  Downloading Werkzeug-2.2.3-py3-none-any.whl.metadata (4.4 kB)\n",
            "Collecting dash-html-components==2.0.0 (from dash==2.10.0)\n",
            "  Downloading dash_html_components-2.0.0-py3-none-any.whl.metadata (3.8 kB)\n",
            "Collecting dash-core-components==2.0.0 (from dash==2.10.0)\n",
            "  Downloading dash_core_components-2.0.0-py3-none-any.whl.metadata (2.9 kB)\n",
            "Collecting dash-table==5.0.0 (from dash==2.10.0)\n",
            "  Downloading dash_table-5.0.0-py3-none-any.whl.metadata (2.4 kB)\n",
            "Requirement already satisfied: requests in /usr/local/lib/python3.11/dist-packages (from jupyter-dash==0.4.2) (2.32.3)\n",
            "Collecting retrying (from jupyter-dash==0.4.2)\n",
            "  Downloading retrying-1.3.4-py3-none-any.whl.metadata (6.9 kB)\n",
            "Requirement already satisfied: ipython in /usr/local/lib/python3.11/dist-packages (from jupyter-dash==0.4.2) (7.34.0)\n",
            "Requirement already satisfied: ipykernel in /usr/local/lib/python3.11/dist-packages (from jupyter-dash==0.4.2) (6.17.1)\n",
            "Collecting ansi2html (from jupyter-dash==0.4.2)\n",
            "  Downloading ansi2html-1.9.2-py3-none-any.whl.metadata (3.7 kB)\n",
            "Requirement already satisfied: nest-asyncio in /usr/local/lib/python3.11/dist-packages (from jupyter-dash==0.4.2) (1.6.0)\n",
            "Requirement already satisfied: numpy>=1.23.2 in /usr/local/lib/python3.11/dist-packages (from pandas) (2.0.2)\n",
            "Requirement already satisfied: python-dateutil>=2.8.2 in /usr/local/lib/python3.11/dist-packages (from pandas) (2.9.0.post0)\n",
            "Requirement already satisfied: pytz>=2020.1 in /usr/local/lib/python3.11/dist-packages (from pandas) (2025.2)\n",
            "Requirement already satisfied: tzdata>=2022.7 in /usr/local/lib/python3.11/dist-packages (from pandas) (2025.2)\n",
            "Requirement already satisfied: tenacity>=6.2.0 in /usr/local/lib/python3.11/dist-packages (from plotly) (9.1.2)\n",
            "Requirement already satisfied: packaging in /usr/local/lib/python3.11/dist-packages (from plotly) (24.2)\n",
            "Requirement already satisfied: Jinja2>=3.0 in /usr/local/lib/python3.11/dist-packages (from Flask<=2.2.3,>=1.0.4->dash==2.10.0) (3.1.6)\n",
            "Requirement already satisfied: itsdangerous>=2.0 in /usr/local/lib/python3.11/dist-packages (from Flask<=2.2.3,>=1.0.4->dash==2.10.0) (2.2.0)\n",
            "Requirement already satisfied: click>=8.0 in /usr/local/lib/python3.11/dist-packages (from Flask<=2.2.3,>=1.0.4->dash==2.10.0) (8.2.0)\n",
            "Requirement already satisfied: six>=1.5 in /usr/local/lib/python3.11/dist-packages (from python-dateutil>=2.8.2->pandas) (1.17.0)\n",
            "Requirement already satisfied: MarkupSafe>=2.1.1 in /usr/local/lib/python3.11/dist-packages (from Werkzeug<=2.2.3->dash==2.10.0) (3.0.2)\n",
            "Requirement already satisfied: debugpy>=1.0 in /usr/local/lib/python3.11/dist-packages (from ipykernel->jupyter-dash==0.4.2) (1.8.0)\n",
            "Requirement already satisfied: jupyter-client>=6.1.12 in /usr/local/lib/python3.11/dist-packages (from ipykernel->jupyter-dash==0.4.2) (6.1.12)\n",
            "Requirement already satisfied: matplotlib-inline>=0.1 in /usr/local/lib/python3.11/dist-packages (from ipykernel->jupyter-dash==0.4.2) (0.1.7)\n",
            "Requirement already satisfied: psutil in /usr/local/lib/python3.11/dist-packages (from ipykernel->jupyter-dash==0.4.2) (5.9.5)\n",
            "Requirement already satisfied: pyzmq>=17 in /usr/local/lib/python3.11/dist-packages (from ipykernel->jupyter-dash==0.4.2) (24.0.1)\n",
            "Requirement already satisfied: tornado>=6.1 in /usr/local/lib/python3.11/dist-packages (from ipykernel->jupyter-dash==0.4.2) (6.4.2)\n",
            "Requirement already satisfied: traitlets>=5.1.0 in /usr/local/lib/python3.11/dist-packages (from ipykernel->jupyter-dash==0.4.2) (5.7.1)\n",
            "Requirement already satisfied: setuptools>=18.5 in /usr/local/lib/python3.11/dist-packages (from ipython->jupyter-dash==0.4.2) (75.2.0)\n",
            "Collecting jedi>=0.16 (from ipython->jupyter-dash==0.4.2)\n",
            "  Downloading jedi-0.19.2-py2.py3-none-any.whl.metadata (22 kB)\n",
            "Requirement already satisfied: decorator in /usr/local/lib/python3.11/dist-packages (from ipython->jupyter-dash==0.4.2) (4.4.2)\n",
            "Requirement already satisfied: pickleshare in /usr/local/lib/python3.11/dist-packages (from ipython->jupyter-dash==0.4.2) (0.7.5)\n",
            "Requirement already satisfied: prompt-toolkit!=3.0.0,!=3.0.1,<3.1.0,>=2.0.0 in /usr/local/lib/python3.11/dist-packages (from ipython->jupyter-dash==0.4.2) (3.0.51)\n",
            "Requirement already satisfied: pygments in /usr/local/lib/python3.11/dist-packages (from ipython->jupyter-dash==0.4.2) (2.19.1)\n",
            "Requirement already satisfied: backcall in /usr/local/lib/python3.11/dist-packages (from ipython->jupyter-dash==0.4.2) (0.2.0)\n",
            "Requirement already satisfied: pexpect>4.3 in /usr/local/lib/python3.11/dist-packages (from ipython->jupyter-dash==0.4.2) (4.9.0)\n",
            "Requirement already satisfied: charset-normalizer<4,>=2 in /usr/local/lib/python3.11/dist-packages (from requests->jupyter-dash==0.4.2) (3.4.2)\n",
            "Requirement already satisfied: idna<4,>=2.5 in /usr/local/lib/python3.11/dist-packages (from requests->jupyter-dash==0.4.2) (3.10)\n",
            "Requirement already satisfied: urllib3<3,>=1.21.1 in /usr/local/lib/python3.11/dist-packages (from requests->jupyter-dash==0.4.2) (2.4.0)\n",
            "Requirement already satisfied: certifi>=2017.4.17 in /usr/local/lib/python3.11/dist-packages (from requests->jupyter-dash==0.4.2) (2025.4.26)\n",
            "Requirement already satisfied: parso<0.9.0,>=0.8.4 in /usr/local/lib/python3.11/dist-packages (from jedi>=0.16->ipython->jupyter-dash==0.4.2) (0.8.4)\n",
            "Requirement already satisfied: jupyter-core>=4.6.0 in /usr/local/lib/python3.11/dist-packages (from jupyter-client>=6.1.12->ipykernel->jupyter-dash==0.4.2) (5.7.2)\n",
            "Requirement already satisfied: ptyprocess>=0.5 in /usr/local/lib/python3.11/dist-packages (from pexpect>4.3->ipython->jupyter-dash==0.4.2) (0.7.0)\n",
            "Requirement already satisfied: wcwidth in /usr/local/lib/python3.11/dist-packages (from prompt-toolkit!=3.0.0,!=3.0.1,<3.1.0,>=2.0.0->ipython->jupyter-dash==0.4.2) (0.2.13)\n",
            "Requirement already satisfied: platformdirs>=2.5 in /usr/local/lib/python3.11/dist-packages (from jupyter-core>=4.6.0->jupyter-client>=6.1.12->ipykernel->jupyter-dash==0.4.2) (4.3.8)\n",
            "Downloading dash-2.10.0-py3-none-any.whl (10.3 MB)\n",
            "\u001b[2K   \u001b[90m━━━━━━━━━━━━━━━━━━━━━━━━━━━━━━━━━━━━━━━━\u001b[0m \u001b[32m10.3/10.3 MB\u001b[0m \u001b[31m53.9 MB/s\u001b[0m eta \u001b[36m0:00:00\u001b[0m\n",
            "\u001b[?25hDownloading jupyter_dash-0.4.2-py3-none-any.whl (23 kB)\n",
            "Downloading dash_core_components-2.0.0-py3-none-any.whl (3.8 kB)\n",
            "Downloading dash_html_components-2.0.0-py3-none-any.whl (4.1 kB)\n",
            "Downloading dash_table-5.0.0-py3-none-any.whl (3.9 kB)\n",
            "Downloading Flask-2.2.3-py3-none-any.whl (101 kB)\n",
            "\u001b[2K   \u001b[90m━━━━━━━━━━━━━━━━━━━━━━━━━━━━━━━━━━━━━━━━\u001b[0m \u001b[32m101.8/101.8 kB\u001b[0m \u001b[31m5.8 MB/s\u001b[0m eta \u001b[36m0:00:00\u001b[0m\n",
            "\u001b[?25hDownloading Werkzeug-2.2.3-py3-none-any.whl (233 kB)\n",
            "\u001b[2K   \u001b[90m━━━━━━━━━━━━━━━━━━━━━━━━━━━━━━━━━━━━━━━━\u001b[0m \u001b[32m233.6/233.6 kB\u001b[0m \u001b[31m11.4 MB/s\u001b[0m eta \u001b[36m0:00:00\u001b[0m\n",
            "\u001b[?25hDownloading ansi2html-1.9.2-py3-none-any.whl (17 kB)\n",
            "Downloading retrying-1.3.4-py3-none-any.whl (11 kB)\n",
            "Downloading jedi-0.19.2-py2.py3-none-any.whl (1.6 MB)\n",
            "\u001b[2K   \u001b[90m━━━━━━━━━━━━━━━━━━━━━━━━━━━━━━━━━━━━━━━━\u001b[0m \u001b[32m1.6/1.6 MB\u001b[0m \u001b[31m40.3 MB/s\u001b[0m eta \u001b[36m0:00:00\u001b[0m\n",
            "\u001b[?25hInstalling collected packages: dash-table, dash-html-components, dash-core-components, Werkzeug, retrying, jedi, ansi2html, Flask, dash, jupyter-dash\n",
            "  Attempting uninstall: Werkzeug\n",
            "    Found existing installation: Werkzeug 3.1.3\n",
            "    Uninstalling Werkzeug-3.1.3:\n",
            "      Successfully uninstalled Werkzeug-3.1.3\n",
            "  Attempting uninstall: Flask\n",
            "    Found existing installation: Flask 3.1.1\n",
            "    Uninstalling Flask-3.1.1:\n",
            "      Successfully uninstalled Flask-3.1.1\n",
            "Successfully installed Flask-2.2.3 Werkzeug-2.2.3 ansi2html-1.9.2 dash-2.10.0 dash-core-components-2.0.0 dash-html-components-2.0.0 dash-table-5.0.0 jedi-0.19.2 jupyter-dash-0.4.2 retrying-1.3.4\n"
          ]
        }
      ],
      "source": [
        "!pip install dash==2.10.0 jupyter-dash==0.4.2 pandas plotly\n"
      ]
    },
    {
      "cell_type": "code",
      "source": [
        "import pandas as pd\n",
        "import plotly.express as px\n",
        "from jupyter_dash import JupyterDash\n",
        "from dash import dcc, html, Input, Output\n",
        "\n",
        "# Leer los datos\n",
        "spacex_df = pd.read_csv('https://cf-courses-data.s3.us.cloud-object-storage.appdomain.cloud/IBM-DS0321EN-SkillsNetwork/datasets/spacex_launch_dash.csv')\n",
        "\n",
        "# Inicializar la app\n",
        "app = JupyterDash(__name__)\n",
        "\n",
        "# Layout de la app\n",
        "app.layout = html.Div(children=[\n",
        "    html.H1('SpaceX Launch Records Dashboard', style={'textAlign': 'center', 'color': '#503D36', 'font-size': 40}),\n",
        "\n",
        "    dcc.Dropdown(\n",
        "        id='site-dropdown',\n",
        "        options=[{'label': site, 'value': site} for site in spacex_df['Launch Site'].unique()] + [{'label': 'ALL', 'value': 'ALL'}],\n",
        "        value='ALL',\n",
        "        placeholder='Select a launch site',\n",
        "        searchable=True\n",
        "    ),\n",
        "\n",
        "    html.Br(),\n",
        "\n",
        "    html.Div(dcc.Graph(id='success-pie-chart')),\n",
        "\n",
        "    html.Br(),\n",
        "\n",
        "    html.P(\"Payload range (Kg):\"),\n",
        "\n",
        "    dcc.RangeSlider(\n",
        "        id='payload-slider',\n",
        "        min=0,\n",
        "        max=spacex_df['Payload Mass (kg)'].max(),\n",
        "        step=1000,\n",
        "        value=[0, spacex_df['Payload Mass (kg)'].max()]\n",
        "    ),\n",
        "\n",
        "    html.Div(dcc.Graph(id='success-payload-scatter-chart')),\n",
        "])\n",
        "\n",
        "# Callback para la gráfica de pastel\n",
        "@app.callback(\n",
        "    Output('success-pie-chart', 'figure'),\n",
        "    Input('site-dropdown', 'value'))\n",
        "def update_pie_chart(site_dropdown):\n",
        "    if site_dropdown == 'ALL':\n",
        "        fig = px.pie(spacex_df, names='Launch Site', title='Total Successful Launches by Site')\n",
        "    else:\n",
        "        df_filtered = spacex_df[spacex_df['Launch Site'] == site_dropdown]\n",
        "        fig = px.pie(df_filtered, names='class', title=f'Total Success vs Failure for site {site_dropdown}')\n",
        "    return fig\n",
        "\n",
        "# Callback para la gráfica de dispersión\n",
        "@app.callback(\n",
        "    Output('success-payload-scatter-chart', 'figure'),\n",
        "    [Input('site-dropdown', 'value'),\n",
        "     Input('payload-slider', 'value')])\n",
        "def update_scatter_chart(site_dropdown, payload_range):\n",
        "    low, high = payload_range\n",
        "    df_filtered = spacex_df[(spacex_df['Payload Mass (kg)'] >= low) & (spacex_df['Payload Mass (kg)'] <= high)]\n",
        "\n",
        "    if site_dropdown != 'ALL':\n",
        "        df_filtered = df_filtered[df_filtered['Launch Site'] == site_dropdown]\n",
        "\n",
        "    fig = px.scatter(\n",
        "        df_filtered, x='Payload Mass (kg)', y='class', color='Booster Version Category',\n",
        "        title='Correlation between Payload and Success'\n",
        "    )\n",
        "    return fig\n",
        "\n",
        "# Mostrar la app en Google Colab\n",
        "app.run_server(mode='inline')\n"
      ],
      "metadata": {
        "colab": {
          "base_uri": "https://localhost:8080/",
          "height": 742
        },
        "id": "VoPkYZd5GXae",
        "outputId": "29c7b9c8-0812-485b-90a8-fc008042eed7"
      },
      "execution_count": 2,
      "outputs": [
        {
          "output_type": "stream",
          "name": "stdout",
          "text": [
            "Dash is running on http://127.0.0.1:8050/\n",
            "\n"
          ]
        },
        {
          "output_type": "stream",
          "name": "stderr",
          "text": [
            "INFO:dash.dash:Dash is running on http://127.0.0.1:8050/\n",
            "\n"
          ]
        },
        {
          "output_type": "display_data",
          "data": {
            "text/plain": [
              "<IPython.core.display.Javascript object>"
            ],
            "application/javascript": [
              "(async (port, path, width, height, cache, element) => {\n",
              "    if (!google.colab.kernel.accessAllowed && !cache) {\n",
              "      return;\n",
              "    }\n",
              "    element.appendChild(document.createTextNode(''));\n",
              "    const url = await google.colab.kernel.proxyPort(port, {cache});\n",
              "    const iframe = document.createElement('iframe');\n",
              "    iframe.src = new URL(path, url).toString();\n",
              "    iframe.height = height;\n",
              "    iframe.width = width;\n",
              "    iframe.style.border = 0;\n",
              "    iframe.allow = [\n",
              "        'accelerometer',\n",
              "        'autoplay',\n",
              "        'camera',\n",
              "        'clipboard-read',\n",
              "        'clipboard-write',\n",
              "        'gyroscope',\n",
              "        'magnetometer',\n",
              "        'microphone',\n",
              "        'serial',\n",
              "        'usb',\n",
              "        'xr-spatial-tracking',\n",
              "    ].join('; ');\n",
              "    element.appendChild(iframe);\n",
              "  })(8050, \"/\", \"100%\", 650, false, window.element)"
            ]
          },
          "metadata": {}
        }
      ]
    }
  ]
}